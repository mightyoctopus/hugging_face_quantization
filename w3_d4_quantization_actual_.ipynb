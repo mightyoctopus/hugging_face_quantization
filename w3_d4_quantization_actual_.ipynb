{
  "nbformat": 4,
  "nbformat_minor": 0,
  "metadata": {
    "colab": {
      "provenance": [],
      "gpuType": "T4",
      "machine_shape": "hm",
      "authorship_tag": "ABX9TyMz9+b/hAua2BIf7iDxaFb1",
      "include_colab_link": true
    },
    "kernelspec": {
      "name": "python3",
      "display_name": "Python 3"
    },
    "language_info": {
      "name": "python"
    },
    "accelerator": "GPU"
  },
  "cells": [
    {
      "cell_type": "markdown",
      "metadata": {
        "id": "view-in-github",
        "colab_type": "text"
      },
      "source": [
        "<a href=\"https://colab.research.google.com/github/mightyoctopus/hugging_face_quantization/blob/main/w3_d4_quantization_actual_.ipynb\" target=\"_parent\"><img src=\"https://colab.research.google.com/assets/colab-badge.svg\" alt=\"Open In Colab\"/></a>"
      ]
    },
    {
      "cell_type": "code",
      "source": [
        "!pip install -U -q transformers bitsandbytes accelerate"
      ],
      "metadata": {
        "id": "JchE0JhwUIwv",
        "collapsed": true
      },
      "execution_count": null,
      "outputs": []
    },
    {
      "cell_type": "code",
      "source": [
        "import os\n",
        "from google.colab import userdata, drive\n",
        "from huggingface_hub import login, snapshot_download\n",
        "from transformers import AutoModelForCausalLM, AutoTokenizer, BitsAndBytesConfig, TextStreamer, AutoConfig\n",
        "import torch"
      ],
      "metadata": {
        "id": "NPCxLQLIlwKA"
      },
      "execution_count": 2,
      "outputs": []
    },
    {
      "cell_type": "code",
      "source": [
        "cache_path = \"/content/drive/MyDrive/Colab Notebooks/huggingface_cache\""
      ],
      "metadata": {
        "id": "3NL9ioCoX2so"
      },
      "execution_count": 3,
      "outputs": []
    },
    {
      "cell_type": "code",
      "source": [
        "hf_token = userdata.get(\"HF_TOKEN\")\n",
        "login(hf_token, add_to_git_credential=True)"
      ],
      "metadata": {
        "id": "pyYdb1wbOH1n"
      },
      "execution_count": 4,
      "outputs": []
    },
    {
      "cell_type": "code",
      "source": [
        "### Instruct Models:\n",
        "\n",
        "LLAMA = \"meta-llama/Llama-3.1-8B-Instruct\"\n",
        "PHI3 = \"microsoft/Phi-3-mini-4k-instruct\"\n",
        "GEMMA2 = \"google/gemma-2-2b-it\"\n",
        "QWEN2 = \"Qwen/Qwen2-7B-Chat\"\n",
        "MIXTRAL = \"mistralai/Mixtral-8x7B-Instruct-v0.1\" # Use smaller if out of memory."
      ],
      "metadata": {
        "id": "X5DnW8bYqrB-"
      },
      "execution_count": 5,
      "outputs": []
    },
    {
      "cell_type": "code",
      "source": [
        "messages = [\n",
        "    {\"role\": \"system\", \"content\": \"You are a helpful assistant.\"},\n",
        "    {\"role\": \"user\", \"content\": \"Tell a light-hearted joke for a room of Data Scientists\"}\n",
        "]"
      ],
      "metadata": {
        "id": "zgJiYy65r1A7"
      },
      "execution_count": 6,
      "outputs": []
    },
    {
      "cell_type": "code",
      "source": [
        "bnb_config_4bit = BitsAndBytesConfig(\n",
        "    load_in_4bit=True,\n",
        "    bnb_4bit_quant_type=\"nf4\",\n",
        "    bnb_4bit_use_double_quant=True,\n",
        "    bnb_4bit_compute_dtype=torch.float16,\n",
        ")"
      ],
      "metadata": {
        "id": "974YGb9Pq9RN"
      },
      "execution_count": 7,
      "outputs": []
    },
    {
      "cell_type": "code",
      "source": [
        "tokenizer = AutoTokenizer.from_pretrained(LLAMA, cache_dir=cache_path)\n",
        "tokenizer.pad_token = tokenizer.eos_token\n",
        "inputs = tokenizer.apply_chat_template(\n",
        "    messages,\n",
        "    return_tensors=\"pt\",\n",
        "    tokenize=True\n",
        ").to(\"cuda\")\n",
        "print(inputs)"
      ],
      "metadata": {
        "id": "Zb-zRnEBsmdI"
      },
      "execution_count": null,
      "outputs": []
    },
    {
      "cell_type": "code",
      "source": [
        "model = AutoModelForCausalLM.from_pretrained(\n",
        "    LLAMA,\n",
        "    device_map=\"cuda\",\n",
        "    quantization_config=bnb_config_4bit,\n",
        "    cache_dir=cache_path\n",
        ")"
      ],
      "metadata": {
        "id": "oROEwGnpuRwS",
        "collapsed": true
      },
      "execution_count": null,
      "outputs": []
    },
    {
      "cell_type": "code",
      "source": [
        "memory = model.get_memory_footprint() / (1024 ** 2)\n",
        "print(f\"{memory:,.1f} MB\")"
      ],
      "metadata": {
        "id": "T01PSrXj_FVH"
      },
      "execution_count": null,
      "outputs": []
    },
    {
      "cell_type": "code",
      "source": [
        "outputs = model.generate(\n",
        "    inputs,\n",
        "    max_new_tokens=80\n",
        "    )\n",
        "\n",
        "print(\"RESULT: \", tokenizer.decode(outputs[0]))"
      ],
      "metadata": {
        "id": "TNlTk07-Pf-h"
      },
      "execution_count": null,
      "outputs": []
    },
    {
      "cell_type": "code",
      "source": [
        "### Clean up cache\n",
        "# del inputs, outputs, model\n",
        "# torch.cuda.empty_cache()"
      ],
      "metadata": {
        "id": "vJ8F7qn0PKN7"
      },
      "execution_count": 27,
      "outputs": []
    },
    {
      "cell_type": "code",
      "source": [
        "### Wrapping everything above into a modular function:\n",
        "\n",
        "def generate(model_name, messages):\n",
        "\n",
        "  # Manually download to Drive\n",
        "  model_path = snapshot_download(\n",
        "    repo_id=model_name,\n",
        "    cache_dir=cache_path,\n",
        "    local_dir_use_symlinks=False  # safer in Drive\n",
        "  )\n",
        "\n",
        "  tokenizer = AutoTokenizer.from_pretrained(model_path)\n",
        "\n",
        "  tokenizer.pad_token = tokenizer.eos_token\n",
        "  inputs = tokenizer.apply_chat_template(\n",
        "      messages,\n",
        "      tokenize=True,\n",
        "      return_tensors=\"pt\"\n",
        "  ).to(\"cuda\")\n",
        "\n",
        "  streamer = TextStreamer(tokenizer)\n",
        "\n",
        "  model = AutoModelForCausalLM.from_pretrained(\n",
        "      model_path,\n",
        "      device_map=\"auto\",\n",
        "      quantization_config=bnb_config_4bit,\n",
        "  )\n",
        "\n",
        "  outputs = model.generate(\n",
        "      inputs,\n",
        "      max_new_tokens=80,\n",
        "      streamer=streamer,\n",
        "  )\n",
        "\n",
        "  del tokenizer, model, inputs, outputs\n",
        "  torch.cuda.empty_cache()"
      ],
      "metadata": {
        "id": "vX6FmhUmJN9g"
      },
      "execution_count": 13,
      "outputs": []
    },
    {
      "cell_type": "code",
      "source": [
        "generate(LLAMA, messages)"
      ],
      "metadata": {
        "id": "il_7FOtJU1hv"
      },
      "execution_count": null,
      "outputs": []
    }
  ]
}